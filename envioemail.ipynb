{
 "cells": [
  {
   "cell_type": "code",
   "execution_count": 2,
   "id": "13e9275f",
   "metadata": {},
   "outputs": [],
   "source": [
    "import pandas as pd\n",
    "import time\n",
    "from datetime import datetime\n",
    "import email.message   \n",
    "import smtplib\n",
    "from win10toast import ToastNotifier\n",
    "####################################################################################################################\n",
    "dia= str(datetime.today().date())\n",
    "dia_refor = dia.split('-')[2]\n",
    "df = pd.read_excel('contas.xlsx')\n",
    "for index, row in df.iterrows():\n",
    "    conta = row['Conta']\n",
    "    valor = row['Valor']\n",
    "    dia_temp = row['Dia']\n",
    "    dia = f'0{dia_temp}'\n",
    "    if dia == dia_refor:\n",
    "        time.sleep(4)\n",
    "        toaster = ToastNotifier()\n",
    "        toaster.show_toast(f'Hoje sua conta de {conta} venceu e o valor é de R${valor}',\n",
    "            threaded=True,\n",
    "            icon_path=None,\n",
    "            duration=3)\n",
    "        \n",
    "        corpo_email = f\"\"\"<p>Hoje sua conta {conta} venceu e o valor é de R${valor} /p> \"\"\"\n",
    "        msg = email.message.Message()\n",
    "        msg['Subject'] = 'AVISO DE CONTA'\n",
    "        msg['From'] = '***********@gmail.com'\n",
    "\n",
    "        msg['To'] = '*******@gmail.com'\n",
    "\n",
    "        password = '************'\n",
    "        msg.add_header('Content-Type', 'text/html')\n",
    "        msg.set_payload(corpo_email)\n",
    "        s = smtplib.SMTP('smtp.gmail.com: 587')\n",
    "        s.starttls()\n",
    "        s.login(msg['From'], password)\n",
    "        s.sendmail(msg['From'], [msg['To']], msg.as_string().encode('utf-8'))\n",
    "    else:\n",
    "        pass\n"
   ]
  },
  {
   "cell_type": "code",
   "execution_count": null,
   "id": "5607a3cb",
   "metadata": {},
   "outputs": [],
   "source": [
    " "
   ]
  }
 ],
 "metadata": {
  "kernelspec": {
   "display_name": "Python 3 (ipykernel)",
   "language": "python",
   "name": "python3"
  },
  "language_info": {
   "codemirror_mode": {
    "name": "ipython",
    "version": 3
   },
   "file_extension": ".py",
   "mimetype": "text/x-python",
   "name": "python",
   "nbconvert_exporter": "python",
   "pygments_lexer": "ipython3",
   "version": "3.9.13"
  }
 },
 "nbformat": 4,
 "nbformat_minor": 5
}
